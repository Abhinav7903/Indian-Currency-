{
  "cells": [
    {
      "cell_type": "code",
      "execution_count": null,
      "metadata": {
        "colab": {
          "base_uri": "https://localhost:8080/"
        },
        "id": "9vw_7DyLb5b6",
        "outputId": "0ac442cc-04b7-4635-cce0-415721eb2d4a"
      },
      "outputs": [],
      "source": []
    },
    {
      "cell_type": "code",
      "execution_count": 1,
      "metadata": {
        "colab": {
          "base_uri": "https://localhost:8080/"
        },
        "id": "yPGBlD9CcOoc",
        "outputId": "8c44cc39-9eea-4749-89e5-2004e4901149"
      },
      "outputs": [
        {
          "name": "stdout",
          "output_type": "stream",
          "text": [
            "['C:/abhinav/Proj/Train\\\\1Hundrednote', 'C:/abhinav/Proj/Train\\\\2Hundrednote', 'C:/abhinav/Proj/Train\\\\2Thousandnote', 'C:/abhinav/Proj/Train\\\\5Hundrednote', 'C:/abhinav/Proj/Train\\\\Fiftynote', 'C:/abhinav/Proj/Train\\\\Tennote', 'C:/abhinav/Proj/Train\\\\Twentynote']\n",
            "7\n"
          ]
        }
      ],
      "source": [
        "from tensorflow.keras.layers import Input, Lambda, Dense, Flatten\n",
        "from tensorflow.keras.models import Model\n",
        "from tensorflow.keras.preprocessing import image\n",
        "from tensorflow.keras.preprocessing.image import ImageDataGenerator,load_img\n",
        "from tensorflow.keras.models import Sequential\n",
        "from tensorflow.keras.layers import MaxPooling2D\n",
        "from tensorflow.keras.layers import Conv2D\n",
        "\n",
        "import numpy as np\n",
        "from glob import glob\n",
        "\n",
        "\n",
        "# re-size all the images to this\n",
        "IMAGE_SIZE = [224, 224]\n",
        "\n",
        "train_path = 'C:/abhinav/Proj/Train'\n",
        "valid_path = 'C:/abhinav/Proj/Test'\n",
        "\n",
        "# useful for getting number of output classes\n",
        "folders = glob('C:/abhinav/Proj/Train/*')\n",
        "\n",
        "print(folders)\n",
        "print(len(folders))"
      ]
    },
    {
      "cell_type": "code",
      "execution_count": 2,
      "metadata": {
        "id": "77eTa45Feq-g"
      },
      "outputs": [],
      "source": [
        "Classifier=Sequential()\n",
        "\n",
        "Classifier.add(Conv2D(32,(3,3), input_shape=(224,224,3), activation='relu'))\n",
        "Classifier.add(MaxPooling2D(pool_size=(2,2)))\n",
        "\n",
        "Classifier.add(Conv2D(32,(3,3),activation='relu'))\n",
        "Classifier.add(MaxPooling2D(pool_size=(2,2)))\n",
        "\n",
        "Classifier.add(Flatten())\n",
        "\n",
        "Classifier.add(Dense(units = 128, activation = 'relu'))\n",
        "Classifier.add(Dense(units = 7, activation = 'softmax'))\n",
        "\n",
        "\n",
        "Classifier.compile(\n",
        "  loss='categorical_crossentropy',\n",
        "  optimizer='adam',\n",
        "  metrics=['accuracy']\n",
        ")"
      ]
    },
    {
      "cell_type": "code",
      "execution_count": 3,
      "metadata": {
        "colab": {
          "base_uri": "https://localhost:8080/"
        },
        "id": "W0TUuY4afva7",
        "outputId": "22a467b4-1cad-47d8-f9c7-10f9eecffc70"
      },
      "outputs": [
        {
          "name": "stdout",
          "output_type": "stream",
          "text": [
            "Found 279 images belonging to 7 classes.\n",
            "Found 45 images belonging to 7 classes.\n"
          ]
        }
      ],
      "source": [
        "# Use the Image Data Generator to import the images from the dataset\n",
        "from tensorflow.keras.preprocessing.image import ImageDataGenerator\n",
        "\n",
        "train_datagen = ImageDataGenerator(rescale = 1./255,\n",
        "                                   height_shift_range=0.2,\n",
        "                                   featurewise_center=True,\n",
        "                                   rotation_range=0.4,\n",
        "                                   horizontal_flip = True)\n",
        "\n",
        "test_datagen = ImageDataGenerator(rescale = 1./255,)\n",
        "\n",
        "# Make sure you provide the same target size as initialied for the image size\n",
        "training_set = train_datagen.flow_from_directory(\n",
        "    'C:/abhinav/directrix/IC/IndianCurrencyDetection-main/Train',\n",
        "                                                 target_size = (224, 224),\n",
        "                                                 batch_size = 32,\n",
        "                                                 class_mode = 'categorical')\n",
        "\n",
        "test_set = test_datagen.flow_from_directory(\n",
        "    'C:/abhinav/directrix/IC/IndianCurrencyDetection-main/Test',\n",
        "                                            target_size = (224, 224),\n",
        "                                            batch_size = 32,\n",
        "                                            class_mode = 'categorical')\n",
        "\n"
      ]
    },
    {
      "attachments": {},
      "cell_type": "markdown",
      "metadata": {
        "id": "cAmGFowcUMVG"
      },
      "source": []
    },
    {
      "cell_type": "code",
      "execution_count": 4,
      "metadata": {
        "colab": {
          "base_uri": "https://localhost:8080/"
        },
        "id": "QFgmyHJGgyxp",
        "outputId": "f0ea7116-c21d-416f-f398-9470e979163a"
      },
      "outputs": [
        {
          "name": "stderr",
          "output_type": "stream",
          "text": [
            "C:\\Users\\abhin\\AppData\\Local\\Temp\\ipykernel_4760\\3418063136.py:3: UserWarning: `Model.fit_generator` is deprecated and will be removed in a future version. Please use `Model.fit`, which supports generators.\n",
            "  r = Classifier.fit_generator(\n",
            "c:\\Users\\abhin\\AppData\\Local\\Programs\\Python\\Python311\\Lib\\site-packages\\keras\\preprocessing\\image.py:1861: UserWarning: This ImageDataGenerator specifies `featurewise_center`, but it hasn't been fit on any training data. Fit it first by calling `.fit(numpy_data)`.\n",
            "  warnings.warn(\n"
          ]
        },
        {
          "name": "stdout",
          "output_type": "stream",
          "text": [
            "Epoch 1/50\n",
            "9/9 [==============================] - 7s 729ms/step - loss: 6.4229 - accuracy: 0.1254 - val_loss: 1.9685 - val_accuracy: 0.1556\n",
            "Epoch 2/50\n",
            "9/9 [==============================] - 5s 502ms/step - loss: 1.8888 - accuracy: 0.2366 - val_loss: 1.8790 - val_accuracy: 0.1333\n",
            "Epoch 3/50\n",
            "9/9 [==============================] - 6s 657ms/step - loss: 1.8553 - accuracy: 0.2473 - val_loss: 1.7953 - val_accuracy: 0.1778\n",
            "Epoch 4/50\n",
            "9/9 [==============================] - 8s 868ms/step - loss: 1.6288 - accuracy: 0.3405 - val_loss: 1.5594 - val_accuracy: 0.3778\n",
            "Epoch 5/50\n",
            "9/9 [==============================] - 8s 784ms/step - loss: 1.4704 - accuracy: 0.4301 - val_loss: 1.4337 - val_accuracy: 0.3778\n",
            "Epoch 6/50\n",
            "9/9 [==============================] - 6s 633ms/step - loss: 1.2559 - accuracy: 0.5090 - val_loss: 1.2994 - val_accuracy: 0.4000\n",
            "Epoch 7/50\n",
            "9/9 [==============================] - 5s 498ms/step - loss: 1.1505 - accuracy: 0.5735 - val_loss: 1.4289 - val_accuracy: 0.5111\n",
            "Epoch 8/50\n",
            "9/9 [==============================] - 5s 495ms/step - loss: 0.9511 - accuracy: 0.6703 - val_loss: 1.2834 - val_accuracy: 0.4222\n",
            "Epoch 9/50\n",
            "9/9 [==============================] - 5s 568ms/step - loss: 0.8375 - accuracy: 0.6738 - val_loss: 1.4886 - val_accuracy: 0.4889\n",
            "Epoch 10/50\n",
            "9/9 [==============================] - 5s 527ms/step - loss: 0.8326 - accuracy: 0.7025 - val_loss: 1.7349 - val_accuracy: 0.4000\n",
            "Epoch 11/50\n",
            "9/9 [==============================] - 5s 567ms/step - loss: 0.6946 - accuracy: 0.7384 - val_loss: 1.5668 - val_accuracy: 0.5556\n",
            "Epoch 12/50\n",
            "9/9 [==============================] - 5s 580ms/step - loss: 0.6590 - accuracy: 0.7634 - val_loss: 1.5101 - val_accuracy: 0.5778\n",
            "Epoch 13/50\n",
            "9/9 [==============================] - 6s 621ms/step - loss: 0.4625 - accuracy: 0.8387 - val_loss: 1.4037 - val_accuracy: 0.5778\n",
            "Epoch 14/50\n",
            "9/9 [==============================] - 8s 903ms/step - loss: 0.5079 - accuracy: 0.8029 - val_loss: 1.3057 - val_accuracy: 0.6222\n",
            "Epoch 15/50\n",
            "9/9 [==============================] - 8s 826ms/step - loss: 0.4007 - accuracy: 0.8925 - val_loss: 1.7512 - val_accuracy: 0.5556\n",
            "Epoch 16/50\n",
            "9/9 [==============================] - 8s 928ms/step - loss: 0.4195 - accuracy: 0.8387 - val_loss: 1.5904 - val_accuracy: 0.6222\n",
            "Epoch 17/50\n",
            "9/9 [==============================] - 9s 944ms/step - loss: 0.3486 - accuracy: 0.8889 - val_loss: 1.6388 - val_accuracy: 0.5556\n",
            "Epoch 18/50\n",
            "9/9 [==============================] - 9s 933ms/step - loss: 0.2984 - accuracy: 0.9104 - val_loss: 1.7098 - val_accuracy: 0.6000\n",
            "Epoch 19/50\n",
            "9/9 [==============================] - 9s 956ms/step - loss: 0.2268 - accuracy: 0.9355 - val_loss: 1.7149 - val_accuracy: 0.6222\n",
            "Epoch 20/50\n",
            "9/9 [==============================] - 8s 870ms/step - loss: 0.2097 - accuracy: 0.9319 - val_loss: 2.0125 - val_accuracy: 0.5778\n",
            "Epoch 21/50\n",
            "9/9 [==============================] - 8s 904ms/step - loss: 0.2952 - accuracy: 0.8996 - val_loss: 1.9927 - val_accuracy: 0.6444\n",
            "Epoch 22/50\n",
            "9/9 [==============================] - 9s 940ms/step - loss: 0.2595 - accuracy: 0.9140 - val_loss: 1.8598 - val_accuracy: 0.6000\n",
            "Epoch 23/50\n",
            "9/9 [==============================] - 9s 945ms/step - loss: 0.2591 - accuracy: 0.9247 - val_loss: 1.8919 - val_accuracy: 0.6667\n",
            "Epoch 24/50\n",
            "9/9 [==============================] - 9s 928ms/step - loss: 0.2372 - accuracy: 0.9427 - val_loss: 1.9588 - val_accuracy: 0.6444\n",
            "Epoch 25/50\n",
            "9/9 [==============================] - 8s 922ms/step - loss: 0.1697 - accuracy: 0.9498 - val_loss: 2.1761 - val_accuracy: 0.6000\n",
            "Epoch 26/50\n",
            "9/9 [==============================] - 8s 870ms/step - loss: 0.1454 - accuracy: 0.9677 - val_loss: 2.0531 - val_accuracy: 0.6889\n",
            "Epoch 27/50\n",
            "9/9 [==============================] - 9s 968ms/step - loss: 0.1117 - accuracy: 0.9677 - val_loss: 2.5132 - val_accuracy: 0.6444\n",
            "Epoch 28/50\n",
            "9/9 [==============================] - 9s 933ms/step - loss: 0.0970 - accuracy: 0.9713 - val_loss: 2.2377 - val_accuracy: 0.6667\n",
            "Epoch 29/50\n",
            "9/9 [==============================] - 9s 975ms/step - loss: 0.0729 - accuracy: 0.9892 - val_loss: 2.2371 - val_accuracy: 0.6222\n",
            "Epoch 30/50\n",
            "9/9 [==============================] - 9s 916ms/step - loss: 0.0480 - accuracy: 0.9928 - val_loss: 2.6591 - val_accuracy: 0.6222\n",
            "Epoch 31/50\n",
            "9/9 [==============================] - 8s 845ms/step - loss: 0.0902 - accuracy: 0.9677 - val_loss: 2.5267 - val_accuracy: 0.5778\n",
            "Epoch 32/50\n",
            "9/9 [==============================] - 5s 577ms/step - loss: 0.1036 - accuracy: 0.9677 - val_loss: 2.2109 - val_accuracy: 0.6444\n",
            "Epoch 33/50\n",
            "9/9 [==============================] - 5s 539ms/step - loss: 0.0624 - accuracy: 0.9928 - val_loss: 2.1790 - val_accuracy: 0.6222\n",
            "Epoch 34/50\n",
            "9/9 [==============================] - 5s 530ms/step - loss: 0.0409 - accuracy: 0.9964 - val_loss: 2.2593 - val_accuracy: 0.6667\n",
            "Epoch 35/50\n",
            "9/9 [==============================] - 6s 607ms/step - loss: 0.0714 - accuracy: 0.9857 - val_loss: 2.6317 - val_accuracy: 0.6222\n",
            "Epoch 36/50\n",
            "9/9 [==============================] - 6s 600ms/step - loss: 0.0357 - accuracy: 0.9964 - val_loss: 2.7586 - val_accuracy: 0.6444\n",
            "Epoch 37/50\n",
            "9/9 [==============================] - 5s 582ms/step - loss: 0.0257 - accuracy: 0.9964 - val_loss: 2.5045 - val_accuracy: 0.6889\n",
            "Epoch 38/50\n",
            "9/9 [==============================] - 5s 530ms/step - loss: 0.0247 - accuracy: 0.9928 - val_loss: 2.5634 - val_accuracy: 0.6667\n",
            "Epoch 39/50\n",
            "9/9 [==============================] - 5s 508ms/step - loss: 0.0474 - accuracy: 0.9892 - val_loss: 2.4372 - val_accuracy: 0.6667\n",
            "Epoch 40/50\n",
            "9/9 [==============================] - 5s 581ms/step - loss: 0.0775 - accuracy: 0.9713 - val_loss: 2.5580 - val_accuracy: 0.6667\n",
            "Epoch 41/50\n",
            "9/9 [==============================] - 5s 589ms/step - loss: 0.0926 - accuracy: 0.9749 - val_loss: 3.2102 - val_accuracy: 0.6222\n",
            "Epoch 42/50\n",
            "9/9 [==============================] - 5s 591ms/step - loss: 0.0826 - accuracy: 0.9785 - val_loss: 2.6929 - val_accuracy: 0.5111\n",
            "Epoch 43/50\n",
            "9/9 [==============================] - 5s 595ms/step - loss: 0.0865 - accuracy: 0.9821 - val_loss: 2.7808 - val_accuracy: 0.6444\n",
            "Epoch 44/50\n",
            "9/9 [==============================] - 5s 564ms/step - loss: 0.0687 - accuracy: 0.9892 - val_loss: 2.9974 - val_accuracy: 0.6444\n",
            "Epoch 45/50\n",
            "9/9 [==============================] - 5s 579ms/step - loss: 0.0491 - accuracy: 0.9892 - val_loss: 2.7057 - val_accuracy: 0.6222\n",
            "Epoch 46/50\n",
            "9/9 [==============================] - 5s 575ms/step - loss: 0.0259 - accuracy: 0.9964 - val_loss: 3.0884 - val_accuracy: 0.6222\n",
            "Epoch 47/50\n",
            "9/9 [==============================] - 5s 564ms/step - loss: 0.0199 - accuracy: 1.0000 - val_loss: 2.9860 - val_accuracy: 0.6667\n",
            "Epoch 48/50\n",
            "9/9 [==============================] - 5s 584ms/step - loss: 0.0161 - accuracy: 1.0000 - val_loss: 3.0381 - val_accuracy: 0.5778\n",
            "Epoch 49/50\n",
            "9/9 [==============================] - 5s 584ms/step - loss: 0.0384 - accuracy: 0.9857 - val_loss: 3.1463 - val_accuracy: 0.5556\n",
            "Epoch 50/50\n",
            "9/9 [==============================] - 5s 578ms/step - loss: 0.0690 - accuracy: 0.9749 - val_loss: 3.0548 - val_accuracy: 0.5333\n"
          ]
        }
      ],
      "source": [
        "# fit the model\n",
        "# Run the cell. It will take some time to execute\n",
        "r = Classifier.fit_generator(\n",
        "  training_set,\n",
        "  validation_data=test_set,\n",
        "  epochs=50,\n",
        "  steps_per_epoch=len(training_set),\n",
        "  validation_steps=len(test_set)\n",
        ")"
      ]
    },
    {
      "cell_type": "code",
      "execution_count": 5,
      "metadata": {
        "colab": {
          "base_uri": "https://localhost:8080/"
        },
        "id": "pMR_Tjl3hFRW",
        "outputId": "8d0dcf21-2176-4f4f-92b6-2ee6a744feb9"
      },
      "outputs": [
        {
          "name": "stdout",
          "output_type": "stream",
          "text": [
            "{'loss': [6.422882556915283, 1.888771653175354, 1.855347990989685, 1.6288362741470337, 1.4703649282455444, 1.2558979988098145, 1.1504844427108765, 0.9511188268661499, 0.8374618887901306, 0.8325896859169006, 0.6945978999137878, 0.6589739918708801, 0.46247732639312744, 0.5079182982444763, 0.4006654620170593, 0.41953685879707336, 0.34855565428733826, 0.29840996861457825, 0.22680650651454926, 0.20968642830848694, 0.2952011227607727, 0.2595165967941284, 0.2590961158275604, 0.23719115555286407, 0.16972558200359344, 0.14536139369010925, 0.11170022934675217, 0.09697689116001129, 0.07292664051055908, 0.04795478656888008, 0.0901564210653305, 0.10355348885059357, 0.06237734109163284, 0.04091036692261696, 0.07143812626600266, 0.03569410741329193, 0.025675060227513313, 0.02466621808707714, 0.047390230000019073, 0.07750759273767471, 0.09256090223789215, 0.08263778686523438, 0.08650010824203491, 0.06872233003377914, 0.049087297171354294, 0.025887861847877502, 0.019869713112711906, 0.016086086630821228, 0.03841555491089821, 0.06900130957365036], 'accuracy': [0.12544803321361542, 0.23655913770198822, 0.24731183052062988, 0.3405017852783203, 0.4301075339317322, 0.5089605450630188, 0.5734767317771912, 0.6702508926391602, 0.6738350987434387, 0.7025089859962463, 0.7383512258529663, 0.7634408473968506, 0.8387096524238586, 0.8028674125671387, 0.8924731016159058, 0.8387096524238586, 0.8888888955116272, 0.9103942513465881, 0.9354838728904724, 0.9318996667861938, 0.8996415734291077, 0.9139785170555115, 0.9247311949729919, 0.9426523447036743, 0.9498208165168762, 0.9677419066429138, 0.9677419066429138, 0.9713261723518372, 0.9892473220825195, 0.9928315281867981, 0.9677419066429138, 0.9677419066429138, 0.9928315281867981, 0.9964157938957214, 0.9856630563735962, 0.9964157938957214, 0.9964157938957214, 0.9928315281867981, 0.9892473220825195, 0.9713261723518372, 0.9749103784561157, 0.9784946441650391, 0.9820788502693176, 0.9892473220825195, 0.9892473220825195, 0.9964157938957214, 1.0, 1.0, 0.9856630563735962, 0.9749103784561157], 'val_loss': [1.9685248136520386, 1.8790086507797241, 1.795314908027649, 1.5594407320022583, 1.4337069988250732, 1.2994319200515747, 1.4289101362228394, 1.283353328704834, 1.488649845123291, 1.7349271774291992, 1.5667924880981445, 1.510091781616211, 1.4036799669265747, 1.305734395980835, 1.7511712312698364, 1.5903513431549072, 1.6388028860092163, 1.7098371982574463, 1.7148635387420654, 2.0125420093536377, 1.9926661252975464, 1.8598310947418213, 1.8918862342834473, 1.958768606185913, 2.176133394241333, 2.053053617477417, 2.5132389068603516, 2.2377054691314697, 2.2370738983154297, 2.65910005569458, 2.526684522628784, 2.2108750343322754, 2.179049253463745, 2.259316921234131, 2.6317241191864014, 2.7586147785186768, 2.504528045654297, 2.5633530616760254, 2.437218427658081, 2.5580155849456787, 3.210181951522827, 2.692887783050537, 2.780766248703003, 2.99735951423645, 2.7056658267974854, 3.0884320735931396, 2.9859721660614014, 3.038072347640991, 3.146291732788086, 3.054799795150757], 'val_accuracy': [0.15555556118488312, 0.13333334028720856, 0.17777778208255768, 0.3777777850627899, 0.3777777850627899, 0.4000000059604645, 0.5111111402511597, 0.42222222685813904, 0.4888888895511627, 0.4000000059604645, 0.5555555820465088, 0.5777778029441833, 0.5777778029441833, 0.6222222447395325, 0.5555555820465088, 0.6222222447395325, 0.5555555820465088, 0.6000000238418579, 0.6222222447395325, 0.5777778029441833, 0.644444465637207, 0.6000000238418579, 0.6666666865348816, 0.644444465637207, 0.6000000238418579, 0.6888889074325562, 0.644444465637207, 0.6666666865348816, 0.6222222447395325, 0.6222222447395325, 0.5777778029441833, 0.644444465637207, 0.6222222447395325, 0.6666666865348816, 0.6222222447395325, 0.644444465637207, 0.6888889074325562, 0.6666666865348816, 0.6666666865348816, 0.6666666865348816, 0.6222222447395325, 0.5111111402511597, 0.644444465637207, 0.644444465637207, 0.6222222447395325, 0.6222222447395325, 0.6666666865348816, 0.5777778029441833, 0.5555555820465088, 0.5333333611488342]}\n"
          ]
        }
      ],
      "source": [
        "print(r.history)"
      ]
    },
    {
      "cell_type": "code",
      "execution_count": 6,
      "metadata": {
        "colab": {
          "base_uri": "https://localhost:8080/",
          "height": 531
        },
        "id": "Fz3phzQ0kG7A",
        "outputId": "bbc19f4e-abfc-4379-a2ea-a6a430873b74"
      },
      "outputs": [
        {
          "data": {
            "image/png": "[encoded data removed]",
            "text/plain": [
              "<Figure size 640x480 with 1 Axes>"
            ]
          },
          "metadata": {},
          "output_type": "display_data"
        },
        {
          "data": {
            "image/png": "[encoded data removed]",
            "text/plain": [
              "<Figure size 640x480 with 1 Axes>"
            ]
          },
          "metadata": {},
          "output_type": "display_data"
        },
        {
          "data": {
            "text/plain": [
              "<Figure size 640x480 with 0 Axes>"
            ]
          },
          "metadata": {},
          "output_type": "display_data"
        }
      ],
      "source": [
        "import matplotlib.pyplot as plt\n",
        "# plot the loss\n",
        "plt.plot(r.history['loss'], label='train_loss')\n",
        "plt.plot(r.history['val_loss'], label='val loss')\n",
        "plt.legend()\n",
        "plt.show()\n",
        "plt.savefig('LossVal_loss')\n",
        "\n",
        "# plot the accuracy\n",
        "plt.plot(r.history['accuracy'], label='train acc')\n",
        "plt.plot(r.history['val_accuracy'], label='val acc')\n",
        "plt.legend()\n",
        "plt.show()\n",
        "plt.savefig('AccVal_acc')"
      ]
    },
    {
      "cell_type": "code",
      "execution_count": 7,
      "metadata": {
        "colab": {
          "base_uri": "https://localhost:8080/"
        },
        "id": "OVdKBVemlPVj",
        "outputId": "ca0b6885-e18e-41fa-954c-537defcf67ff"
      },
      "outputs": [
        {
          "name": "stdout",
          "output_type": "stream",
          "text": [
            "2/2 [==============================] - 0s 55ms/step\n",
            "[[1.03888713e-04 2.14622919e-09 1.30560562e-09 3.54832196e-06\n",
            "  2.23903453e-06 9.99402523e-01 4.87729179e-04]\n",
            " [1.71610955e-05 1.52892038e-01 5.70823158e-06 1.40766345e-03\n",
            "  2.10946542e-04 3.42686214e-02 8.11197817e-01]\n",
            " [1.98931843e-06 1.47781957e-14 2.84439817e-13 3.52035669e-21\n",
            "  9.49596345e-01 5.04015945e-02 1.33821886e-26]\n",
            " [5.37776796e-05 9.99795139e-01 1.35732946e-04 8.12818996e-07\n",
            "  9.02455042e-07 1.02746480e-05 3.38838367e-06]\n",
            " [2.18714515e-04 8.42074188e-11 9.99781311e-01 4.31056602e-16\n",
            "  8.51747194e-14 2.61850054e-14 5.91809435e-10]\n",
            " [9.26085472e-01 1.38534760e-05 2.42083013e-04 7.11453035e-02\n",
            "  2.50687147e-03 4.61835814e-09 6.43077738e-06]\n",
            " [1.56756380e-06 4.74437893e-12 2.02912903e-12 1.66306037e-07\n",
            "  9.51014102e-01 4.89839688e-02 1.91196108e-07]\n",
            " [5.13659734e-06 2.68761933e-01 1.22866531e-05 3.46777051e-05\n",
            "  4.83861641e-06 4.44534584e-04 7.30736554e-01]\n",
            " [4.85331952e-09 5.01159889e-07 2.11490783e-06 1.21413539e-11\n",
            "  2.34444251e-05 1.23471420e-06 9.99972701e-01]\n",
            " [3.65052692e-05 5.29493661e-07 5.07676887e-05 1.08792673e-08\n",
            "  2.33818046e-05 5.01743890e-02 9.49714422e-01]\n",
            " [9.99988914e-01 9.90751019e-08 8.98811322e-06 1.19094454e-06\n",
            "  1.40898404e-08 3.10088843e-09 8.09970004e-07]\n",
            " [1.02501377e-01 5.28350413e-01 1.22589260e-01 6.28688213e-05\n",
            "  1.05584797e-03 1.10455079e-03 2.44335756e-01]\n",
            " [9.10533845e-01 3.45762463e-09 8.88570175e-02 4.50404976e-08\n",
            "  6.02616055e-04 6.45867431e-06 2.90260296e-08]\n",
            " [9.98452783e-01 6.51819779e-11 1.54724589e-03 1.49798518e-09\n",
            "  2.79572095e-11 3.24199673e-12 1.39963999e-10]\n",
            " [2.82916312e-06 4.96923427e-08 9.99992609e-01 1.06280547e-10\n",
            "  4.49838821e-12 4.51510793e-08 4.45732985e-06]\n",
            " [1.05435412e-08 9.99786079e-01 4.85529519e-08 1.00192017e-06\n",
            "  2.66589573e-09 1.90880470e-04 2.20809579e-05]\n",
            " [3.63753381e-04 3.47460172e-09 7.97375833e-07 6.37542189e-06\n",
            "  9.99627233e-01 1.73686362e-06 2.60744915e-09]\n",
            " [2.39082027e-07 9.99769032e-01 3.86075635e-06 4.67863970e-10\n",
            "  1.30029210e-10 2.10449954e-07 2.26765929e-04]\n",
            " [2.39759459e-07 1.24980479e-16 9.99999762e-01 4.83761007e-20\n",
            "  1.70917838e-18 1.58252348e-18 8.44126369e-09]\n",
            " [8.76588821e-02 1.79267023e-04 1.20519303e-01 7.80118346e-01\n",
            "  1.58046423e-05 8.03924104e-06 1.15002897e-02]\n",
            " [9.93429720e-01 1.10792431e-17 2.95818592e-10 5.17546145e-11\n",
            "  6.57029729e-03 4.66382322e-10 3.13682880e-09]\n",
            " [1.08582071e-06 2.83955070e-13 9.99998927e-01 4.09724105e-18\n",
            "  1.28828136e-17 5.44216239e-19 5.10947895e-10]\n",
            " [1.05435412e-08 9.99786079e-01 4.85529519e-08 1.00192017e-06\n",
            "  2.66589573e-09 1.90880470e-04 2.20809579e-05]\n",
            " [5.56432366e-01 1.01652968e-05 4.42804456e-01 6.26604560e-06\n",
            "  9.73857027e-07 7.18855464e-09 7.45717552e-04]\n",
            " [4.03602689e-06 1.46812425e-04 8.26938162e-09 8.43454063e-01\n",
            "  1.19901147e-08 1.42816722e-03 1.54966891e-01]\n",
            " [9.93712183e-06 9.75504455e-10 9.99989986e-01 1.10199610e-12\n",
            "  5.77262305e-13 5.20044785e-10 1.51918300e-07]\n",
            " [1.70153001e-07 9.71097069e-17 1.88488331e-12 5.37963203e-15\n",
            "  9.99999046e-01 8.38892447e-07 1.36485254e-10]\n",
            " [5.03976416e-08 9.56995726e-01 3.07648911e-08 4.16736566e-02\n",
            "  1.05412728e-05 1.25194748e-03 6.80121084e-05]\n",
            " [1.69483499e-07 1.99351236e-01 8.21725262e-05 5.76328830e-07\n",
            "  7.10751010e-06 2.77827086e-04 8.00280869e-01]\n",
            " [1.71610955e-05 1.52892038e-01 5.70823158e-06 1.40766345e-03\n",
            "  2.10946542e-04 3.42686214e-02 8.11197817e-01]\n",
            " [4.57595335e-03 9.49856894e-06 1.42164117e-06 4.24537205e-09\n",
            "  6.00768777e-04 3.96672897e-02 9.55145121e-01]\n",
            " [9.22873974e-01 5.59763908e-02 8.27351585e-03 1.16212200e-03\n",
            "  1.17057608e-02 2.62278860e-07 8.02393060e-06]\n",
            " [9.99959350e-01 3.12854560e-13 2.23568408e-12 3.91974500e-05\n",
            "  1.43636566e-06 1.86201245e-11 6.69074171e-13]\n",
            " [9.98934329e-01 2.12045138e-11 1.02424492e-05 1.05091790e-03\n",
            "  5.15563443e-07 3.29724963e-11 4.06843401e-06]\n",
            " [4.11341404e-07 3.48002421e-12 1.50398599e-04 1.74435350e-13\n",
            "  2.18378954e-10 7.31142091e-10 9.99849200e-01]\n",
            " [2.18048224e-09 6.95709786e-22 3.94793475e-21 1.06322011e-15\n",
            "  1.00000000e+00 1.93638779e-14 3.26568353e-20]\n",
            " [5.99906547e-03 2.42850976e-03 1.17445632e-06 6.75357580e-02\n",
            "  5.76144794e-06 1.26447137e-02 9.11385000e-01]\n",
            " [5.72355457e-05 1.06389925e-10 6.53813430e-08 4.02061062e-07\n",
            "  9.99939799e-01 2.49107802e-06 5.86707305e-09]\n",
            " [5.33236209e-14 2.32404439e-12 2.54315406e-11 3.66333754e-14\n",
            "  5.20557735e-15 6.90468169e-11 1.00000000e+00]\n",
            " [1.91025133e-08 3.96891922e-01 1.02932072e-08 8.08211416e-03\n",
            "  9.43096296e-12 5.73658943e-01 2.13669501e-02]\n",
            " [9.94122088e-01 1.22450285e-06 5.73642610e-05 1.02394552e-05\n",
            "  5.80843678e-03 3.27816622e-07 3.25100217e-07]\n",
            " [1.75268948e-01 3.69625764e-06 5.13439627e-05 8.24115336e-01\n",
            "  4.08142339e-04 1.50813343e-04 1.74840773e-06]\n",
            " [7.54393399e-01 4.22494146e-08 2.45585993e-01 9.11898595e-13\n",
            "  9.34379401e-08 8.49076434e-11 2.04567368e-05]\n",
            " [4.56919992e-07 1.40453005e-04 9.69590656e-06 7.21596471e-09\n",
            "  8.86072229e-08 6.81968118e-07 9.99848604e-01]\n",
            " [9.99979615e-01 6.72392541e-16 2.03650488e-05 2.52408619e-15\n",
            "  4.22085197e-12 5.75173620e-17 5.24879348e-14]]\n"
          ]
        }
      ],
      "source": [
        "y_pred = Classifier.predict(test_set)\n",
        "\n",
        "\n",
        "\n",
        "print(y_pred)"
      ]
    },
    {
      "cell_type": "code",
      "execution_count": 8,
      "metadata": {
        "colab": {
          "base_uri": "https://localhost:8080/"
        },
        "id": "xpxrGcSjlwPN",
        "outputId": "2bed14b8-dd18-4694-d0d2-5461984b3d7d"
      },
      "outputs": [
        {
          "name": "stdout",
          "output_type": "stream",
          "text": [
            "Accuracy: 17.78%\n",
            "[5 6 4 1 2 0 4 6 6 6 0 1 0 0 2 1 4 1 2 3 0 2 1 0 3 2 4 1 6 6 6 0 0 0 6 4 6\n",
            " 4 6 5 0 3 0 6 0]\n"
          ]
        }
      ],
      "source": [
        "import numpy as np\n",
        "y_pred = np.argmax(y_pred, axis=1)\n",
        "y_true = test_set.classes\n",
        "accuracy = np.mean(y_pred == y_true) * 100\n",
        "\n",
        "print(f\"Accuracy: {accuracy:.2f}%\")\n",
        "\n",
        "print(y_pred)"
      ]
    },
    {
      "cell_type": "code",
      "execution_count": 10,
      "metadata": {
        "colab": {
          "base_uri": "https://localhost:8080/"
        },
        "id": "PAFdXyvamExk",
        "outputId": "13bae68d-48cc-4517-8009-b9e2ffa55a21"
      },
      "outputs": [
        {
          "name": "stdout",
          "output_type": "stream",
          "text": [
            "1/1 [==============================] - 0s 20ms/step\n",
            "[[0. 0. 1. 0. 0. 0. 0.]]\n",
            "[False]\n",
            "[False]\n",
            "[ True]\n",
            "[False]\n",
            "[False]\n",
            "[False]\n",
            "[False]\n"
          ]
        }
      ],
      "source": [
        "from tensorflow.keras.preprocessing import image\n",
        "\n",
        "\n",
        "img=image.load_img('C:/abhinav/Proj/Test/2Thousandnote/32.jpg',\n",
        "                   target_size=(224,224))\n",
        "\n",
        "test_image=image.img_to_array(img)\n",
        "test_image=np.expand_dims(test_image, axis = 0)\n",
        "\n",
        "result = Classifier.predict(test_image)\n",
        "print(result)\n",
        "\n",
        "a=np.argmax(result, axis=1)\n",
        "\n",
        "print(a==0)\n",
        "print(a==1)\n",
        "print(a==2)\n",
        "print(a==3)\n",
        "print(a==4)\n",
        "print(a==5)\n",
        "print(a==6)\n",
        "\n"
      ]
    },
    {
      "cell_type": "code",
      "execution_count": 11,
      "metadata": {
        "id": "QuXedb70kfdD"
      },
      "outputs": [],
      "source": [
        "# save it as a h5 file\n",
        "\n",
        "from tensorflow.keras.models import load_model\n",
        "\n",
        "Classifier.save('C:/abhinav/Proj/model_classifier.h5')\n",
        "\n"
      ]
    },
    {
      "cell_type": "code",
      "execution_count": 12,
      "metadata": {
        "id": "Ec00hqZqbfTh"
      },
      "outputs": [],
      "source": [
        "# load h5 file\n",
        "\n",
        "\n",
        "\n",
        "from tensorflow.keras.models import load_model\n",
        "\n",
        "model=load_model('C:/abhinav/Proj/model_classifier.h5')\n",
        "\n",
        "\n"
      ]
    }
  ],
  "metadata": {
    "colab": {
      "collapsed_sections": [],
      "name": "currencydetectionmodel.ipynb",
      "provenance": []
    },
    "kernelspec": {
      "display_name": "Python 3",
      "name": "python3"
    },
    "language_info": {
      "codemirror_mode": {
        "name": "ipython",
        "version": 3
      },
      "file_extension": ".py",
      "mimetype": "text/x-python",
      "name": "python",
      "nbconvert_exporter": "python",
      "pygments_lexer": "ipython3",
      "version": "3.11.1"
    }
  },
  "nbformat": 4,
  "nbformat_minor": 0
}
